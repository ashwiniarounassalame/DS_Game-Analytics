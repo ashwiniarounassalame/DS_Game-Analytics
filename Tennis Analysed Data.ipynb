{
 "cells": [
  {
   "cell_type": "code",
   "execution_count": 254,
   "metadata": {},
   "outputs": [
    {
     "data": {
      "text/plain": [
       "True"
      ]
     },
     "execution_count": 254,
     "metadata": {},
     "output_type": "execute_result"
    }
   ],
   "source": [
    "import os\n",
    "from dotenv import load_dotenv\n",
    "\n",
    "load_dotenv()"
   ]
  },
  {
   "cell_type": "code",
   "execution_count": 244,
   "metadata": {},
   "outputs": [
    {
     "name": "stdout",
     "output_type": "stream",
     "text": [
      "Competitions data saved!\n"
     ]
    }
   ],
   "source": [
    "import requests\n",
    "import pandas as pd\n",
    "from sqlalchemy import create_engine\n",
    "import json\n",
    "import ast\n",
    "\n",
    "API_KEY = os.getenv(\"API_KEY\")\n",
    "BASE_URL = \"https://api.sportradar.com/tennis/trial/v3/en/\"\n",
    "ENDPOINT = \"/competitions.json\"\n",
    "   \n",
    "def fetch_competitions():\n",
    "    url = f\"{BASE_URL}{ENDPOINT}?api_key={API_KEY}\"\n",
    "    response = requests.get(url)\n",
    "    response.raise_for_status()\n",
    "    return response.json()\n",
    "\n",
    "def process_competitions(data):\n",
    "    competitions = data.get(\"competitions\", [])\n",
    "    df = pd.json_normalize(competitions)\n",
    "    return df\n",
    "\n",
    "competitions_data = fetch_competitions()\n",
    "competitions_df = process_competitions(competitions_data)\n",
    "competitions_df.to_csv(\"competitions.csv\", index=False)\n",
    "print(\"Competitions data saved!\")"
   ]
  },
  {
   "cell_type": "code",
   "execution_count": 245,
   "metadata": {},
   "outputs": [
    {
     "name": "stdout",
     "output_type": "stream",
     "text": [
      "Complexes data saved!\n"
     ]
    }
   ],
   "source": [
    "ENDPOINT = \"/complexes.json\"\n",
    "\n",
    "def fetch_complexes():\n",
    "    url = f\"{BASE_URL}{ENDPOINT}?api_key={API_KEY}\"\n",
    "    response = requests.get(url)\n",
    "    response.raise_for_status()\n",
    "    return response.json()\n",
    "\n",
    "def process_complexes(data):\n",
    "    complexes = data.get(\"complexes\", [])\n",
    "    df = pd.json_normalize(complexes)\n",
    "    return df\n",
    "\n",
    "complexes_data = fetch_complexes()\n",
    "complexes_df = process_complexes(complexes_data)\n",
    "complexes_df.to_csv(\"complexes.csv\", index=False)\n",
    "print(\"Complexes data saved!\")"
   ]
  },
  {
   "cell_type": "code",
   "execution_count": 246,
   "metadata": {},
   "outputs": [
    {
     "name": "stdout",
     "output_type": "stream",
     "text": [
      "Rankings data saved!\n"
     ]
    }
   ],
   "source": [
    "ENDPOINT = \"/double_competitors_rankings.json\"\n",
    "\n",
    "def fetch_rankings():\n",
    "    url = f\"{BASE_URL}{ENDPOINT}?api_key={API_KEY}\"\n",
    "    response = requests.get(url)\n",
    "    response.raise_for_status()\n",
    "    return response.json()\n",
    "\n",
    "def process_rankings(data):\n",
    "    rankings = data.get(\"rankings\", [])\n",
    "    df = pd.json_normalize(rankings)\n",
    "    return df\n",
    "\n",
    "rankings_data = fetch_rankings()\n",
    "rankings_df = process_rankings(rankings_data)\n",
    "rankings_df.to_csv(\"rankings.csv\", index=False)\n",
    "print(\"Rankings data saved!\")"
   ]
  },
  {
   "cell_type": "code",
   "execution_count": 247,
   "metadata": {},
   "outputs": [
    {
     "name": "stdout",
     "output_type": "stream",
     "text": [
      "Database connected successfully!\n"
     ]
    }
   ],
   "source": [
    "username = os.getenv(\"user_name\")\n",
    "password = os.getenv(\"password\")\n",
    "host = os.getenv(\"host\")\n",
    "database = os.getenv(\"database\")\n",
    "\n",
    "engine = create_engine(f\"mysql+mysqlconnector://{username}:{password}@{host}/{database}\")\n",
    "\n",
    "try:\n",
    "    with engine.connect() as connection:\n",
    "        print(\"Database connected successfully!\")\n",
    "except Exception as e:\n",
    "    print(f\"Error: {e}\")"
   ]
  },
  {
   "cell_type": "code",
   "execution_count": 248,
   "metadata": {},
   "outputs": [
    {
     "name": "stdout",
     "output_type": "stream",
     "text": [
      "Tables created successfully!\n"
     ]
    }
   ],
   "source": [
    "from sqlalchemy import Table, Column, Integer, String, MetaData, ForeignKey\n",
    "\n",
    "metadata = MetaData()\n",
    "\n",
    "categories = Table(\n",
    "    'categories', metadata,\n",
    "    Column('id', String(50), primary_key=True),\n",
    "    Column('name', String(100), nullable=False),\n",
    ")\n",
    "\n",
    "competitions = Table(\n",
    "    'competitions', metadata,\n",
    "    Column('id', String(50), primary_key=True),\n",
    "    Column('name', String(100), nullable=False),\n",
    "    Column('type', String(20), nullable=False),\n",
    "    Column('gender', String(10), nullable=False),\n",
    "    Column('category.id', String(50), ForeignKey('categories.id')),\n",
    "    Column('category.name', String(100), nullable=False),\n",
    "    Column('level', String(50), nullable=True),\n",
    "    Column('parent_id', String(50), nullable=True),\n",
    ")\n",
    "\n",
    "complexes = Table(\n",
    "    'complexes', metadata,\n",
    "    Column('id', String(50), primary_key=True),\n",
    "    Column('name', String(100), nullable=False),\n",
    "    Column('venues', String(500), nullable=True),\n",
    ")\n",
    "\n",
    "venues = Table(\n",
    "    'venues', metadata,\n",
    "    Column('id', String(50), primary_key=True),\n",
    "    Column('name', String(100), nullable=False),\n",
    "    Column('city_name', String(100), nullable=False),\n",
    "    Column('country_name', String(100), nullable=False),\n",
    "    Column('country_code', String(3), nullable=False),\n",
    "    Column('timezone', String(100), nullable=False),\n",
    "    Column('complex_id', String(50), ForeignKey('complexes.id')),\n",
    ")\n",
    "\n",
    "competitors = Table(\n",
    "    'competitors_table', metadata,\n",
    "    Column('id', String(50), primary_key=True),\n",
    "    Column('name', String(100), nullable=False),\n",
    "    Column('country', String(255), nullable=False),\n",
    "    Column('country_code', String(255), nullable=False),\n",
    "    Column('abbreviation', String(255), nullable=False),\n",
    ")\n",
    "\n",
    "rankings = Table(\n",
    "    'competitor_rankings', metadata,\n",
    "    Column('id', Integer, primary_key=True, autoincrement=True),\n",
    "    Column('rank', Integer, nullable=False),\n",
    "    Column('movement', Integer, nullable=False),\n",
    "    Column('points', Integer, nullable=False),\n",
    "    Column('competitions_played', Integer, nullable=False),\n",
    "    Column('competitor_id', String(50), ForeignKey('competitors_table.id')),\n",
    ")\n",
    "\n",
    "metadata.drop_all(engine)\n",
    "metadata.create_all(engine)\n",
    "\n",
    "print(\"Tables created successfully!\")"
   ]
  },
  {
   "cell_type": "code",
   "execution_count": 249,
   "metadata": {},
   "outputs": [],
   "source": [
    "categories_df = competitions_df[['category.id', 'category.name']].drop_duplicates()\n",
    "categories_df.rename(columns={'category.id': 'id', 'category.name': 'name'}, inplace=True)"
   ]
  },
  {
   "cell_type": "code",
   "execution_count": 250,
   "metadata": {},
   "outputs": [],
   "source": [
    "complexes_data = pd.read_csv(\"complexes.csv\")\n",
    "\n",
    "venues_list = []\n",
    "for _, row in complexes_data.iterrows():\n",
    "    if not pd.isna(row['venues']):\n",
    "        venues = ast.literal_eval(row['venues'])\n",
    "        for venue in venues:\n",
    "            venue['complex_id'] = row['id']\n",
    "            venues_list.append(venue)\n",
    "\n",
    "venues_df = pd.DataFrame(venues_list)\n",
    "venues_df = venues_df.drop(columns=[\"capacity\", \"map_coordinates\"])"
   ]
  },
  {
   "cell_type": "code",
   "execution_count": 251,
   "metadata": {},
   "outputs": [
    {
     "data": {
      "text/html": [
       "<div>\n",
       "<style scoped>\n",
       "    .dataframe tbody tr th:only-of-type {\n",
       "        vertical-align: middle;\n",
       "    }\n",
       "\n",
       "    .dataframe tbody tr th {\n",
       "        vertical-align: top;\n",
       "    }\n",
       "\n",
       "    .dataframe thead th {\n",
       "        text-align: right;\n",
       "    }\n",
       "</style>\n",
       "<table border=\"1\" class=\"dataframe\">\n",
       "  <thead>\n",
       "    <tr style=\"text-align: right;\">\n",
       "      <th></th>\n",
       "      <th>id</th>\n",
       "      <th>name</th>\n",
       "    </tr>\n",
       "  </thead>\n",
       "  <tbody>\n",
       "    <tr>\n",
       "      <th>0</th>\n",
       "      <td>sr:complex:705</td>\n",
       "      <td>Nacional</td>\n",
       "    </tr>\n",
       "    <tr>\n",
       "      <th>1</th>\n",
       "      <td>sr:complex:1078</td>\n",
       "      <td>Estadio de la Cartuja</td>\n",
       "    </tr>\n",
       "    <tr>\n",
       "      <th>2</th>\n",
       "      <td>sr:complex:1495</td>\n",
       "      <td>Sibur Arena</td>\n",
       "    </tr>\n",
       "    <tr>\n",
       "      <th>3</th>\n",
       "      <td>sr:complex:2375</td>\n",
       "      <td>Complexo de Tenis do Jamor</td>\n",
       "    </tr>\n",
       "    <tr>\n",
       "      <th>4</th>\n",
       "      <td>sr:complex:4032</td>\n",
       "      <td>Shree Shiv Chhatrapati Sports Complex</td>\n",
       "    </tr>\n",
       "    <tr>\n",
       "      <th>...</th>\n",
       "      <td>...</td>\n",
       "      <td>...</td>\n",
       "    </tr>\n",
       "    <tr>\n",
       "      <th>610</th>\n",
       "      <td>sr:complex:81543</td>\n",
       "      <td>Headington Family Tennis Center</td>\n",
       "    </tr>\n",
       "    <tr>\n",
       "      <th>611</th>\n",
       "      <td>sr:complex:81613</td>\n",
       "      <td>Royal SC Tennis</td>\n",
       "    </tr>\n",
       "    <tr>\n",
       "      <th>612</th>\n",
       "      <td>sr:complex:81635</td>\n",
       "      <td>LSU</td>\n",
       "    </tr>\n",
       "    <tr>\n",
       "      <th>613</th>\n",
       "      <td>sr:complex:81651</td>\n",
       "      <td>Robson Tennis Center</td>\n",
       "    </tr>\n",
       "    <tr>\n",
       "      <th>614</th>\n",
       "      <td>sr:complex:81661</td>\n",
       "      <td>Wake Forest Tennis Center</td>\n",
       "    </tr>\n",
       "  </tbody>\n",
       "</table>\n",
       "<p>615 rows × 2 columns</p>\n",
       "</div>"
      ],
      "text/plain": [
       "                   id                                   name\n",
       "0      sr:complex:705                               Nacional\n",
       "1     sr:complex:1078                  Estadio de la Cartuja\n",
       "2     sr:complex:1495                            Sibur Arena\n",
       "3     sr:complex:2375             Complexo de Tenis do Jamor\n",
       "4     sr:complex:4032  Shree Shiv Chhatrapati Sports Complex\n",
       "..                ...                                    ...\n",
       "610  sr:complex:81543        Headington Family Tennis Center\n",
       "611  sr:complex:81613                        Royal SC Tennis\n",
       "612  sr:complex:81635                                    LSU\n",
       "613  sr:complex:81651                   Robson Tennis Center\n",
       "614  sr:complex:81661              Wake Forest Tennis Center\n",
       "\n",
       "[615 rows x 2 columns]"
      ]
     },
     "execution_count": 251,
     "metadata": {},
     "output_type": "execute_result"
    }
   ],
   "source": [
    "complexes_df = complexes_df.drop(columns=[\"venues\"])\n",
    "complexes_df"
   ]
  },
  {
   "cell_type": "code",
   "execution_count": 252,
   "metadata": {},
   "outputs": [
    {
     "name": "stdout",
     "output_type": "stream",
     "text": [
      "Rankings data inserted successfully!\n",
      "                    id                               name     type gender  \\\n",
      "0   sr:competition:620                         Hopman Cup    mixed  mixed   \n",
      "1   sr:competition:660                     World Team Cup    mixed    men   \n",
      "2   sr:competition:990         ATP Challenger Tour Finals  singles    men   \n",
      "3  sr:competition:1207  Championship International Series  singles  women   \n",
      "4  sr:competition:2100                          Davis Cup    mixed    men   \n",
      "\n",
      "       category.id category.name              level            parent_id  \n",
      "0  sr:category:181    Hopman Cup                NaN                  NaN  \n",
      "1    sr:category:3           ATP            atp_250                  NaN  \n",
      "2   sr:category:72    Challenger                NaN  sr:competition:6239  \n",
      "3    sr:category:6           WTA  wta_championships                  NaN  \n",
      "4   sr:category:76     Davis Cup                NaN                  NaN  \n",
      "   rank  movement  points  competitions_played        competitor_id\n",
      "0     1         0    7260                   22  sr:competitor:49363\n",
      "1     1         0    7260                   22  sr:competitor:51836\n",
      "2     3         0    6565                   22  sr:competitor:87690\n",
      "3     4         0    6500                   18  sr:competitor:15568\n",
      "4     4         0    6500                   18  sr:competitor:16160\n"
     ]
    }
   ],
   "source": [
    "rankings_data = pd.read_csv(\"rankings.csv\")\n",
    "competitor_rankings = []\n",
    "table = []\n",
    "\n",
    "for _, row in rankings_data.iterrows():\n",
    "    rankings = ast.literal_eval(row['competitor_rankings'])\n",
    "    for ranking in rankings:\n",
    "        competitor = ranking['competitor']\n",
    "        competitor_rankings.append({\n",
    "            'rank': ranking['rank'],\n",
    "            'movement': ranking['movement'],\n",
    "            'points': ranking['points'],\n",
    "            'competitions_played': ranking['competitions_played'],\n",
    "            'competitor_id': competitor['id']\n",
    "        })\n",
    "        table.append({\n",
    "            'id': competitor['id'],\n",
    "            'name': competitor['name'],\n",
    "            'country': competitor['country'],\n",
    "            'country_code': competitor.get('country_code', 'N/A'),\n",
    "            'abbreviation': competitor['abbreviation']\n",
    "        })\n",
    "        # competitors_df = pd.DataFrame([competitor])\n",
    "\n",
    "competitors_df = pd.DataFrame(table)\n",
    "rankings_df = pd.DataFrame(competitor_rankings)\n",
    "print(\"Rankings data inserted successfully!\")\n",
    "print(competitions_df.head())\n",
    "print(rankings_df.head())"
   ]
  },
  {
   "cell_type": "code",
   "execution_count": 253,
   "metadata": {},
   "outputs": [
    {
     "name": "stdout",
     "output_type": "stream",
     "text": [
      "Data inserted into tables successfully!\n"
     ]
    }
   ],
   "source": [
    "categories_df.to_sql('categories', con=engine, if_exists='append', index=False)\n",
    "competitions_df.to_sql('competitions', con=engine, if_exists='append', index=False)\n",
    "\n",
    "complexes_df.to_sql('complexes', con=engine, if_exists='append', index=False)\n",
    "venues_df.to_sql('venues', con=engine, if_exists='append', index=False)\n",
    "\n",
    "competitors_df.to_sql('competitors_table', con=engine, if_exists='append', index=False)\n",
    "rankings_df.to_sql('competitor_rankings', con=engine, if_exists='append', index=False)\n",
    "\n",
    "print(\"Data inserted into tables successfully!\")"
   ]
  },
  {
   "cell_type": "code",
   "execution_count": null,
   "metadata": {},
   "outputs": [],
   "source": []
  }
 ],
 "metadata": {
  "kernelspec": {
   "display_name": "Python 3",
   "language": "python",
   "name": "python3"
  },
  "language_info": {
   "codemirror_mode": {
    "name": "ipython",
    "version": 3
   },
   "file_extension": ".py",
   "mimetype": "text/x-python",
   "name": "python",
   "nbconvert_exporter": "python",
   "pygments_lexer": "ipython3",
   "version": "3.11.9"
  }
 },
 "nbformat": 4,
 "nbformat_minor": 2
}
